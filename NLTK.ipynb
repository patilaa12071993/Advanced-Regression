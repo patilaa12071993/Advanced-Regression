{
  "nbformat": 4,
  "nbformat_minor": 0,
  "metadata": {
    "colab": {
      "name": "NLTK.ipynb",
      "provenance": [],
      "collapsed_sections": [],
      "authorship_tag": "ABX9TyPEUWZQTUQKm+Ou5zLpUqZ+",
      "include_colab_link": true
    },
    "kernelspec": {
      "name": "python3",
      "display_name": "Python 3"
    },
    "language_info": {
      "name": "python"
    }
  },
  "cells": [
    {
      "cell_type": "markdown",
      "metadata": {
        "id": "view-in-github",
        "colab_type": "text"
      },
      "source": [
        "<a href=\"https://colab.research.google.com/github/patilaa12071993/Advanced-Regression/blob/main/NLTK.ipynb\" target=\"_parent\"><img src=\"https://colab.research.google.com/assets/colab-badge.svg\" alt=\"Open In Colab\"/></a>"
      ]
    },
    {
      "cell_type": "code",
      "execution_count": 13,
      "metadata": {
        "id": "xWFqqO-K-5Ky",
        "colab": {
          "base_uri": "https://localhost:8080/"
        },
        "outputId": "9224906f-90f0-4ffc-bb76-9b9188ee5016"
      },
      "outputs": [
        {
          "output_type": "stream",
          "name": "stdout",
          "text": [
            "[nltk_data] Downloading package punkt to /root/nltk_data...\n",
            "[nltk_data]   Unzipping tokenizers/punkt.zip.\n"
          ]
        },
        {
          "output_type": "execute_result",
          "data": {
            "text/plain": [
              "True"
            ]
          },
          "metadata": {},
          "execution_count": 13
        }
      ],
      "source": [
        "import nltk\n",
        "nltk.download('punkt')"
      ]
    },
    {
      "cell_type": "code",
      "source": [
        "from nltk.tokenize import word_tokenize\n"
      ],
      "metadata": {
        "id": "aJQpjKQIBeLx"
      },
      "execution_count": 14,
      "outputs": []
    },
    {
      "cell_type": "code",
      "source": [
        ""
      ],
      "metadata": {
        "id": "XtobtMaBXkAY"
      },
      "execution_count": 15,
      "outputs": []
    },
    {
      "cell_type": "code",
      "source": [
        "word =word_tokenize(text)\n"
      ],
      "metadata": {
        "id": "G2oDKFwgBeWN"
      },
      "execution_count": 16,
      "outputs": []
    },
    {
      "cell_type": "code",
      "source": [
        "word"
      ],
      "metadata": {
        "colab": {
          "base_uri": "https://localhost:8080/"
        },
        "id": "EuIGzocFXjGq",
        "outputId": "80cba292-a108-475e-cf08-547d69528155"
      },
      "execution_count": 17,
      "outputs": [
        {
          "output_type": "execute_result",
          "data": {
            "text/plain": [
              "['Tokenization',\n",
              " 'allows',\n",
              " 'machines',\n",
              " 'to',\n",
              " 'read',\n",
              " 'texts',\n",
              " '.',\n",
              " 'Both',\n",
              " 'traditional',\n",
              " 'and',\n",
              " 'deep',\n",
              " 'learning',\n",
              " 'methods',\n",
              " 'in',\n",
              " 'the',\n",
              " 'field',\n",
              " 'of',\n",
              " 'natural',\n",
              " 'language',\n",
              " 'processing',\n",
              " 'rely',\n",
              " 'heavily',\n",
              " 'on',\n",
              " 'tokenization',\n",
              " '.',\n",
              " 'It',\n",
              " 'is',\n",
              " 'often',\n",
              " 'a',\n",
              " 'pre-processing',\n",
              " 'step',\n",
              " 'in',\n",
              " 'most',\n",
              " 'natural',\n",
              " 'language',\n",
              " 'processing',\n",
              " 'applications',\n",
              " '.',\n",
              " 'For',\n",
              " 'example',\n",
              " ',',\n",
              " 'to',\n",
              " 'count',\n",
              " 'the',\n",
              " 'number',\n",
              " 'of',\n",
              " 'words',\n",
              " 'in',\n",
              " 'a',\n",
              " 'text',\n",
              " ',',\n",
              " 'the',\n",
              " 'text',\n",
              " 'is',\n",
              " 'split',\n",
              " 'up',\n",
              " 'using',\n",
              " 'tokenizers',\n",
              " '.',\n",
              " 'In',\n",
              " 'deep',\n",
              " 'learning',\n",
              " 'and',\n",
              " 'traditional',\n",
              " 'methods',\n",
              " ',',\n",
              " 'tokenization',\n",
              " 'is',\n",
              " 'used',\n",
              " 'for',\n",
              " 'feature',\n",
              " 'engineering',\n",
              " '.',\n",
              " 'For',\n",
              " 'example',\n",
              " ',',\n",
              " 'the',\n",
              " 'input',\n",
              " 'text',\n",
              " 'is',\n",
              " 'processed',\n",
              " 'using',\n",
              " 'WordPiece',\n",
              " 'subword',\n",
              " 'tokenization',\n",
              " 'before',\n",
              " 'it',\n",
              " 'is',\n",
              " 'fed',\n",
              " 'into',\n",
              " 'BERT',\n",
              " '’',\n",
              " 's',\n",
              " 'neural',\n",
              " 'network',\n",
              " 'architecture',\n",
              " '.']"
            ]
          },
          "metadata": {},
          "execution_count": 17
        }
      ]
    },
    {
      "cell_type": "code",
      "source": [
        ""
      ],
      "metadata": {
        "id": "4OMey8TaBeXW"
      },
      "execution_count": null,
      "outputs": []
    },
    {
      "cell_type": "code",
      "source": [
        ""
      ],
      "metadata": {
        "id": "u6Uju_6vBeYr"
      },
      "execution_count": null,
      "outputs": []
    }
  ]
}