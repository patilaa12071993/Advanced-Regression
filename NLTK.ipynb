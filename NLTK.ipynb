{
  "nbformat": 4,
  "nbformat_minor": 0,
  "metadata": {
    "colab": {
      "name": "NLTK.ipynb",
      "provenance": [],
      "collapsed_sections": [],
      "authorship_tag": "ABX9TyNrDVYuwu0JvBnGF0OReHHI",
      "include_colab_link": true
    },
    "kernelspec": {
      "name": "python3",
      "display_name": "Python 3"
    },
    "language_info": {
      "name": "python"
    }
  },
  "cells": [
    {
      "cell_type": "markdown",
      "metadata": {
        "id": "view-in-github",
        "colab_type": "text"
      },
      "source": [
        "<a href=\"https://colab.research.google.com/github/patilaa12071993/Advanced-Regression/blob/main/NLTK.ipynb\" target=\"_parent\"><img src=\"https://colab.research.google.com/assets/colab-badge.svg\" alt=\"Open In Colab\"/></a>"
      ]
    },
    {
      "cell_type": "code",
      "execution_count": 13,
      "metadata": {
        "id": "xWFqqO-K-5Ky",
        "colab": {
          "base_uri": "https://localhost:8080/"
        },
        "outputId": "9224906f-90f0-4ffc-bb76-9b9188ee5016"
      },
      "outputs": [
        {
          "output_type": "stream",
          "name": "stdout",
          "text": [
            "[nltk_data] Downloading package punkt to /root/nltk_data...\n",
            "[nltk_data]   Unzipping tokenizers/punkt.zip.\n"
          ]
        },
        {
          "output_type": "execute_result",
          "data": {
            "text/plain": [
              "True"
            ]
          },
          "metadata": {},
          "execution_count": 13
        }
      ],
      "source": [
        "import nltk\n",
        "nltk.download('punkt')"
      ]
    },
    {
      "cell_type": "code",
      "source": [
        "from nltk.tokenize import word_tokenize\n"
      ],
      "metadata": {
        "id": "aJQpjKQIBeLx"
      },
      "execution_count": 14,
      "outputs": []
    },
    {
      "cell_type": "code",
      "source": [
        "text='Word tokenizers are one class of tokenizers that split a text into words. These tokenizers can be used to create a bag of words representation of the text, which can be used for downstream tasks like building word2vec or TF-IDF models.'"
      ],
      "metadata": {
        "id": "XtobtMaBXkAY"
      },
      "execution_count": 18,
      "outputs": []
    },
    {
      "cell_type": "code",
      "source": [
        "word =word_tokenize(text)\n"
      ],
      "metadata": {
        "id": "G2oDKFwgBeWN"
      },
      "execution_count": 19,
      "outputs": []
    },
    {
      "cell_type": "code",
      "source": [
        "word"
      ],
      "metadata": {
        "colab": {
          "base_uri": "https://localhost:8080/"
        },
        "id": "EuIGzocFXjGq",
        "outputId": "f6713362-6dbc-47a9-d68e-f1b70bbf5ac5"
      },
      "execution_count": 20,
      "outputs": [
        {
          "output_type": "execute_result",
          "data": {
            "text/plain": [
              "['Word',\n",
              " 'tokenizers',\n",
              " 'are',\n",
              " 'one',\n",
              " 'class',\n",
              " 'of',\n",
              " 'tokenizers',\n",
              " 'that',\n",
              " 'split',\n",
              " 'a',\n",
              " 'text',\n",
              " 'into',\n",
              " 'words',\n",
              " '.',\n",
              " 'These',\n",
              " 'tokenizers',\n",
              " 'can',\n",
              " 'be',\n",
              " 'used',\n",
              " 'to',\n",
              " 'create',\n",
              " 'a',\n",
              " 'bag',\n",
              " 'of',\n",
              " 'words',\n",
              " 'representation',\n",
              " 'of',\n",
              " 'the',\n",
              " 'text',\n",
              " ',',\n",
              " 'which',\n",
              " 'can',\n",
              " 'be',\n",
              " 'used',\n",
              " 'for',\n",
              " 'downstream',\n",
              " 'tasks',\n",
              " 'like',\n",
              " 'building',\n",
              " 'word2vec',\n",
              " 'or',\n",
              " 'TF-IDF',\n",
              " 'models',\n",
              " '.']"
            ]
          },
          "metadata": {},
          "execution_count": 20
        }
      ]
    },
    {
      "cell_type": "code",
      "source": [
        ""
      ],
      "metadata": {
        "id": "4OMey8TaBeXW"
      },
      "execution_count": null,
      "outputs": []
    },
    {
      "cell_type": "code",
      "source": [
        ""
      ],
      "metadata": {
        "id": "u6Uju_6vBeYr"
      },
      "execution_count": null,
      "outputs": []
    }
  ]
}